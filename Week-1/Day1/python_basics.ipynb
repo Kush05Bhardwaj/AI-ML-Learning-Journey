{
  "metadata": {
    "kernelspec": {
      "name": "xpython",
      "display_name": "Python 3.13 (XPython)",
      "language": "python"
    },
    "language_info": {
      "file_extension": ".py",
      "mimetype": "text/x-python",
      "name": "python",
      "version": "3.13.1"
    }
  },
  "nbformat_minor": 5,
  "nbformat": 4,
  "cells": [
    {
      "id": "465822c5-28cf-42e8-bd0f-9d632d4e7864",
      "cell_type": "code",
      "source": "# Python Basics",
      "metadata": {
        "trusted": true
      },
      "outputs": [],
      "execution_count": null
    },
    {
      "id": "3f84a677-801f-4768-a537-f33384908498",
      "cell_type": "code",
      "source": "# Printing text\nprint(\"Hello AI/ML World!\")",
      "metadata": {
        "trusted": true
      },
      "outputs": [
        {
          "name": "stdout",
          "output_type": "stream",
          "text": "Hello AI/ML World!\n"
        }
      ],
      "execution_count": 2
    },
    {
      "id": "6ee2bfba-bec9-4802-9c85-e8b3ee2acf87",
      "cell_type": "code",
      "source": "# Variables\nname = \"Kushagra Bhardwaj\"\nage = 19\nis_student = True\n\nprint(\"Name:\", name)\nprint(\"Age:\", age)\nprint(\"Student:\", is_student)",
      "metadata": {
        "trusted": true
      },
      "outputs": [
        {
          "name": "stdout",
          "output_type": "stream",
          "text": "Name: Kushagra Bhardwaj\nAge: 19\nStudent: True\n"
        }
      ],
      "execution_count": 4
    },
    {
      "id": "88604b5f-0d34-4eda-9f31-d638b3d40d55",
      "cell_type": "code",
      "source": "# Loops and Functions\n\n# For Loop\nfor i in range(5):\n    print(\"Iteration:\", i)\n\n# While Loop\ncount = 0\nwhile count < 10:\n    print(\"Count:\", count)\n    count += 1\n\n# Function\ndef greet(user):\n    return f\"Hello, {user}!\"\nprint(greet(\"Kushagra\"))",
      "metadata": {
        "trusted": true
      },
      "outputs": [
        {
          "name": "stdout",
          "output_type": "stream",
          "text": "Iteration: 0\nIteration: 1\nIteration: 2\nIteration: 3\nIteration: 4\nCount: 0\nCount: 1\nCount: 2\nCount: 3\nCount: 4\nCount: 5\nCount: 6\nCount: 7\nCount: 8\nCount: 9\nHello, Kushagra!\n"
        }
      ],
      "execution_count": 7
    },
    {
      "id": "3a915188-30e8-43bd-a7e8-1d7fc7657277",
      "cell_type": "code",
      "source": "# Lists, Dictionaries, Tuples\n\n#List\nfruits = [\"apple\", \"banana\", \"mango\"]\nprint(\"Fruits:\", fruits)\nfruits.append(\"cherrry\")\n\n# Dictionary\nstudent = {\"name\": \"Kushagra\", \"branch\": \"CSE\", \"year\": 2}\nprint(\"Student:\", student)\nprint(\"Branch:\", student[\"branch\"])\n\n# Tuple\ncoordinates = (5, 15)\nprint(\"Coordinates:\", coordinates)",
      "metadata": {
        "trusted": true
      },
      "outputs": [
        {
          "name": "stdout",
          "output_type": "stream",
          "text": "Fruits: ['apple', 'banana', 'mango']\nStudent: {'name': 'Kushagra', 'branch': 'CSE', 'year': 2}\nBranch: CSE\nCoordinates: (5, 15)\n"
        }
      ],
      "execution_count": 9
    },
    {
      "id": "6c1c21a5-d8c5-4572-8bbf-ac6392d39ddf",
      "cell_type": "code",
      "source": "# Simple Class\nclass Student:\n    def __init__(self, name, branch, year):\n        self.name = name\n        self.branch = branch\n        self.year = year\n    def intro(self):\n        return f\"My name is {self.name}, I study {self.branch}, in year {self.year}.\"\n\ns1 = Student(\"Kushagra\", \"CSE\", 2)\nprint(s1.intro())",
      "metadata": {
        "trusted": true
      },
      "outputs": [
        {
          "name": "stdout",
          "output_type": "stream",
          "text": "My name is Kushagra, I study CSE, in year 2.\n"
        }
      ],
      "execution_count": 11
    },
    {
      "id": "2415d0ed-9c50-49dc-921f-8f0a0d6ccf0d",
      "cell_type": "code",
      "source": "# Simple Exercise: Mean, Median (No Libraries)\n\n# Mean\ndef calculate_mean(nums):\n    return sum(nums) / len(nums)\n\n# Median\ndef calculate_median(nums):\n    nums_sorted = sorted(nums)\n    n = len(nums_sorted)\n    mid = n // 2\n    \n    if n % 2 == 0:\n        \n        return (nums_sorted[mid - 1] + nums_sorted[mid]) / 2\n    else:\n        return nums_sorted[mid]\n\n# Test\nnumbers = [1, 2, 3, 4, 5, 6, 7, 8, 9, 10]\nprint(\"Numbers:\", numbers)\nprint(\"Mean:\", calculate_mean(numbers))\nprint(\"Median:\", calculate_median(numbers))",
      "metadata": {
        "trusted": true
      },
      "outputs": [
        {
          "name": "stdout",
          "output_type": "stream",
          "text": "Numbers: [1, 2, 3, 4, 5, 6, 7, 8, 9, 10]\nMean: 5.5\nMedian: 5.5\n"
        }
      ],
      "execution_count": 14
    },
    {
      "id": "a5d4d596-32c6-4454-aba6-a354ec400873",
      "cell_type": "code",
      "source": "",
      "metadata": {
        "trusted": true
      },
      "outputs": [],
      "execution_count": null
    }
  ]
}